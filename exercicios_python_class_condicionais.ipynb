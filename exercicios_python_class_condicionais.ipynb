{
 "cells": [
  {
   "cell_type": "markdown",
   "id": "974590f5",
   "metadata": {},
   "source": [
    "# Exercícios Python Class Condicionais"
   ]
  },
  {
   "cell_type": "code",
   "execution_count": 1,
   "id": "6e625fbc",
   "metadata": {},
   "outputs": [
    {
     "name": "stdout",
     "output_type": "stream",
     "text": [
      "Informe a sua idade 15\n",
      "Sua idade é menor que 18 anos.\n"
     ]
    }
   ],
   "source": [
    "#Enunciado\n",
    "#Faça um programa que peça a idade da pessoa e imprima se ela é maior ou menor de 18 anos.\n",
    "\n",
    "idade =  int (input (\"Informe a sua idade \"))\n",
    "if (idade > 18):\n",
    "  print (\"Sua idade é maior que 18 anos.\")\n",
    "elif (idade < 18):\n",
    "  print (\"Sua idade é menor que 18 anos.\")\n",
    "else:\n",
    "  print (\"Sua idade é 18 anos.\") "
   ]
  },
  {
   "cell_type": "code",
   "execution_count": 2,
   "id": "d7dcc7dc",
   "metadata": {},
   "outputs": [
    {
     "name": "stdout",
     "output_type": "stream",
     "text": [
      "Informe um número inteiro -5\n",
      "O número informado é negativo.\n"
     ]
    }
   ],
   "source": [
    "#Enunciado\n",
    "#Faça um programa que peça um número e mostre se ele é positivo ou negativo.\n",
    "\n",
    "numero =  int (input (\"Informe um número inteiro \"))\n",
    "\n",
    "if (numero < 0):\n",
    "  print (\"O número informado é negativo.\")\n",
    "else:\n",
    "  print (\"O número infomado é positivo.\")"
   ]
  },
  {
   "cell_type": "code",
   "execution_count": 3,
   "id": "8faad793",
   "metadata": {},
   "outputs": [
    {
     "name": "stdout",
     "output_type": "stream",
     "text": [
      "Informe o primeiro número inteiro 5\n",
      "Informe o segundo número inteiro 8\n",
      "8\n"
     ]
    }
   ],
   "source": [
    "#Enunciado\n",
    "#Faça um programa que peça dois números e mostre o maior deles.\n",
    "\n",
    "numero1 =  int (input (\"Informe o primeiro número inteiro \"))\n",
    "numero2 =  int (input (\"Informe o segundo número inteiro \"))\n",
    "\n",
    "if (numero1 > numero2):\n",
    "  print (numero1)\n",
    "else:\n",
    "  print (numero2)"
   ]
  },
  {
   "cell_type": "code",
   "execution_count": 4,
   "id": "c54a13d4",
   "metadata": {},
   "outputs": [
    {
     "name": "stdout",
     "output_type": "stream",
     "text": [
      "Informe a primeira nota 8\n",
      "Informe a segunda nota 8\n",
      "Informe a terceira nota 9\n",
      "O aluno passou de ano!\n"
     ]
    }
   ],
   "source": [
    "#Enunciado\n",
    "#Escreva um programa que peça a nota de 3 provas de um aluno e mostre se ele passou ou não de ano.\n",
    "\n",
    "nota1 =  float (input (\"Informe a primeira nota \"))\n",
    "nota2 =  float (input (\"Informe a segunda nota \"))\n",
    "nota3 =  float (input (\"Informe a terceira nota \"))\n",
    "\n",
    "media = (nota1+nota2+nota3)/3\n",
    "\n",
    "if (media >= 6):\n",
    "  print (\"O aluno passou de ano!\")\n",
    "else:\n",
    "  print (\"O aluno não passou de ano!\")"
   ]
  },
  {
   "cell_type": "code",
   "execution_count": 5,
   "id": "074763a6",
   "metadata": {},
   "outputs": [
    {
     "name": "stdout",
     "output_type": "stream",
     "text": [
      "Qual a capital do Brasil?\n",
      "a) Brasília\n",
      "b) São Paulo\n",
      "c) Salvador\n",
      "d) Recife\n",
      "e) Rio de Janeiro\n",
      "\n",
      "c\n",
      "Eita! Resposta incorreta. A capital do Brasil é Brasília!\n"
     ]
    }
   ],
   "source": [
    "#Enunciado\n",
    "#Faça um programa que mostre uma questão de múltipla escolha com 5 opções (letras a, b, c, d, e).\n",
    "#Sabendo a resposta certa, o programa deve receber a opção do usuário e informar a letra que o usuário marcou e se a resposta está certa ou errada.\n",
    "\n",
    "resposta_certa = \"a\"\n",
    "print (\"Qual a capital do Brasil?\\n\" \"a) Brasília\\n\"  \"b) São Paulo\\n\" \"c) Salvador\\n\" \"d) Recife\\n\" \"e) Rio de Janeiro\\n\")\n",
    "resposta = input ()\n",
    "if (resposta == resposta_certa):\n",
    "  print (\"Arrasou! Parabéns!\")\n",
    "else:\n",
    "  print (\"Eita! Resposta incorreta. A capital do Brasil é Brasília!\")"
   ]
  },
  {
   "cell_type": "code",
   "execution_count": 6,
   "id": "d4f632c8",
   "metadata": {},
   "outputs": [
    {
     "name": "stdout",
     "output_type": "stream",
     "text": [
      "Questionário criminal\n",
      "\n",
      "a) Mora perto da vítima? Responda 1 PARA SIM OU 0 PARA NAO 1\n",
      "b) Já trabalhou com a vítima? Responda 1 PARA SIM OU 0 PARA NAO 1\n",
      "c) Telefonou para a vítima? Responda 1 PARA SIM OU 0 PARA NAO 1\n",
      "d) Esteve no local do crime? Responda 1 PARA SIM OU 0 PARA NAO 1\n",
      "e) Devia para a vítima? Responda 1 PARA SIM OU 0 PARA NAO 1\n",
      "O entrevistado é o assassino!\n"
     ]
    }
   ],
   "source": [
    "#Enunciado\n",
    "#Vamos fazer um programa para verificar quem é o assassino de um crime.\n",
    "#Para descobrir o assassino, a polícia faz um pequeno questionário com 5 perguntas onde a resposta só pode ser sim ou não:\n",
    "\n",
    "print ('Questionário criminal\\n')\n",
    "\n",
    "pista1 = int (input (\"a) Mora perto da vítima? Responda 1 PARA SIM OU 0 PARA NAO \"))\n",
    "pista2 = int (input (\"b) Já trabalhou com a vítima? Responda 1 PARA SIM OU 0 PARA NAO \"))\n",
    "pista3 = int (input (\"c) Telefonou para a vítima? Responda 1 PARA SIM OU 0 PARA NAO \"))\n",
    "pista4 = int (input (\"d) Esteve no local do crime? Responda 1 PARA SIM OU 0 PARA NAO \"))\n",
    "pista5 = int (input (\"e) Devia para a vítima? Responda 1 PARA SIM OU 0 PARA NAO \"))\n",
    "\n",
    "if pista1+pista2+pista3+pista4+pista5 == 5:\n",
    "  print (\"O entrevistado é o assassino!\")\n",
    "elif pista1+pista2+pista3+pista4+pista5 == 4 or 3:\n",
    "  print (\"O entrevistado é cúmplice.\")\n",
    "else:\n",
    "  print (\"O entrevistado é apenas suspeito. Seguir com a investigação.\")"
   ]
  },
  {
   "cell_type": "code",
   "execution_count": 8,
   "id": "96d5555e",
   "metadata": {},
   "outputs": [
    {
     "name": "stdout",
     "output_type": "stream",
     "text": [
      "Aguarde, estou sorteando um número...\n",
      "Prontinho. Agora adivinhe o número sorteado: 2\n",
      "Tente novamente!\n"
     ]
    }
   ],
   "source": [
    "#Faça um programa em que o usuário tem que adivinhar o número escolhido pelo computador.\n",
    "#O computador deve sortear um número inteiro de 1 a 5 e pedir para o usuário tentar descobrir qual o número sorteado.\n",
    "#Após o usuário digitar sua resposta, o programa deve dizer se ele acertou ou não.\n",
    "#Dica: para sortear um número, você precisará utilizar a biblioteca random.\n",
    "\n",
    "import random\n",
    "\n",
    "num_sorteado = (random.randint(1, 5))\n",
    "print (\"Aguarde, estou sorteando um número...\")\n",
    "num_usuario = int (input (\"Prontinho. Agora adivinhe o número sorteado: \"))\n",
    "if num_sorteado == num_usuario:\n",
    "  print (\"Parabéns! Você acertou! O número sorteado foi \", num_sorteado)\n",
    "else:\n",
    "  print (\"Tente novamente!\")"
   ]
  },
  {
   "cell_type": "code",
   "execution_count": 9,
   "id": "cc74ad13",
   "metadata": {},
   "outputs": [
    {
     "name": "stdout",
     "output_type": "stream",
     "text": [
      "Informe a velocidade 50\n",
      "O motorista não ultrapassou a velocidade permitida. Não há multas a serem aplicadas.\n"
     ]
    }
   ],
   "source": [
    "#Vamos fazer um radar eletrônico de velocidade.\n",
    "#Faça um programa que leia a velocidade de um carro, e diga se ele está acima ou não da velocidade permitida de 50 km/h.\n",
    "#Se o carro estiver acima da velocidade, o programa deve imprimir que o motorista ultrapassou a velocidade permitida e recebeu uma multa num determinado valor.\n",
    "#Para calcular o valor da multa, considere que para cada quilômetro acima da velocidade permitida, o motorista deve pagar 10 reais.\n",
    "\n",
    "velocidade_permitida = 50\n",
    "velocidade_informada = int (input (\"Informe a velocidade \"))\n",
    "multa = (velocidade_informada - 50) * 10\n",
    "\n",
    "if velocidade_informada > velocidade_permitida:\n",
    "  print (\"Você ultrapassou a velocidade permitida e deve pagar multa de \", multa, \"reais.\")\n",
    "else:\n",
    "  print (\"O motorista não ultrapassou a velocidade permitida. Não há multas a serem aplicadas.\") "
   ]
  },
  {
   "cell_type": "code",
   "execution_count": 10,
   "id": "07d0a4f5",
   "metadata": {},
   "outputs": [
    {
     "name": "stdout",
     "output_type": "stream",
     "text": [
      "Questionário de sintomas: \n",
      "\n",
      "Você tem febre persistente? Responda 1 para SIM e 0 para NAO 1\n",
      "Você tem dificuldade para respirar? Responda 1 para SIM e 0 para NAO 1\n",
      "Procure um hospital\n"
     ]
    }
   ],
   "source": [
    "#Enunciado\n",
    "#Faça um programa que pergunte os sintomas que a pessoa apresenta e responda se ela deve ou não procurar um hospital.\n",
    "#Sintomas: \n",
    "#a. Você tem febre persistente?\n",
    "#b. Você tem dificuldade para respirar?\n",
    "\n",
    "#A resposta do programa deve seguir a seguinte tabela:\n",
    "#A | B = Resultado\n",
    "#Sim | Não = Fique em casa\n",
    "#Não | Sim = Fique em casa\n",
    "#Não | Não = Fique em casa\n",
    "#Sim | Sim = Procure um hospital\n",
    "\n",
    "print (\"Questionário de sintomas: \\n\")\n",
    "resposta1 = int (input (\"Você tem febre persistente? Responda 1 para SIM e 0 para NAO \" ))\n",
    "resposta2 = int (input (\"Você tem dificuldade para respirar? Responda 1 para SIM e 0 para NAO \" ))\n",
    "\n",
    "if resposta1 == 1 and resposta2 == 0:\n",
    "  print (\"Fique me casa\")\n",
    "elif resposta1 == 0 and resposta2 == 1:\n",
    "  print (\"Fique me casa\")\n",
    "elif resposta1 == 0 and resposta2 == 0:\n",
    "  print (\"Fique me casa\")\n",
    "else:\n",
    "  print (\"Procure um hospital\")"
   ]
  }
 ],
 "metadata": {
  "kernelspec": {
   "display_name": "Python 3 (ipykernel)",
   "language": "python",
   "name": "python3"
  },
  "language_info": {
   "codemirror_mode": {
    "name": "ipython",
    "version": 3
   },
   "file_extension": ".py",
   "mimetype": "text/x-python",
   "name": "python",
   "nbconvert_exporter": "python",
   "pygments_lexer": "ipython3",
   "version": "3.10.5"
  }
 },
 "nbformat": 4,
 "nbformat_minor": 5
}
