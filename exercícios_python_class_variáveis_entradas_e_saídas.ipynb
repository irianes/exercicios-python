{
 "cells": [
  {
   "cell_type": "markdown",
   "id": "a0a51da4",
   "metadata": {},
   "source": [
    "# Exercícios Python Class | Variáveis, Entradas e Saídas"
   ]
  },
  {
   "cell_type": "code",
   "execution_count": 1,
   "id": "20a73be2",
   "metadata": {},
   "outputs": [
    {
     "name": "stdout",
     "output_type": "stream",
     "text": [
      "Olá, mundo!\n"
     ]
    }
   ],
   "source": [
    "#Enunciado\n",
    "#Faça um programa que mostre a mensagem \"Olá, mundo!\" na tela.\n",
    "\n",
    "print ('Olá, mundo!')"
   ]
  },
  {
   "cell_type": "code",
   "execution_count": 2,
   "id": "5a730347",
   "metadata": {},
   "outputs": [
    {
     "name": "stdout",
     "output_type": "stream",
     "text": [
      "Escreva um número 5\n",
      "O número informado foi: 5\n"
     ]
    }
   ],
   "source": [
    "#Enunciado\n",
    "#Faça um programa que peça um número e mostre a mensagem \"O número informado foi [número]\".\n",
    "\n",
    "numero = input ('Escreva um número ')\n",
    "print ('O número informado foi:', numero)"
   ]
  },
  {
   "cell_type": "code",
   "execution_count": 3,
   "id": "513a1aab",
   "metadata": {},
   "outputs": [
    {
     "name": "stdout",
     "output_type": "stream",
     "text": [
      "digite um número: 5\n",
      "O número informado é 5.0\n",
      "digite um número: 3.14\n",
      "O número informado é 3\n"
     ]
    }
   ],
   "source": [
    "#Faça um programa que peça um número para o usuário (string), converta-o para float e depois imprima-o na tela.\n",
    "Você consegue fazer a mesma coisa, porém convertendo para int?\n",
    "\n",
    "#Convertendo para float\n",
    "\n",
    "num = input(\"digite um número: \")\n",
    "num = float(num)\n",
    "print(\"O número informado é\", num)\n",
    "\n",
    "#Convertendo para int\n",
    "\n",
    "num = input(\"digite um número: \")\n",
    "num = int(float(num))\n",
    "print (\"O número informado é\", num)"
   ]
  },
  {
   "cell_type": "code",
   "execution_count": 4,
   "id": "9972060b",
   "metadata": {},
   "outputs": [
    {
     "name": "stdout",
     "output_type": "stream",
     "text": [
      "Informe o primeiro número 2\n",
      "Informe o segundo número 2\n",
      "A soma dos números informados é: 4\n"
     ]
    }
   ],
   "source": [
    "#Enunciado\n",
    "#Faça um programa que peça dois números inteiros e imprima a soma deles.\n",
    "\n",
    "\n",
    "numero1 = int(input ('Informe o primeiro número '))\n",
    "numero2 = int(input ('Informe o segundo número '))\n",
    "soma = numero1+numero2\n",
    "print ('A soma dos números informados é:', soma)"
   ]
  },
  {
   "cell_type": "code",
   "execution_count": 5,
   "id": "1d9181f5",
   "metadata": {},
   "outputs": [
    {
     "name": "stdout",
     "output_type": "stream",
     "text": [
      "Informe a primeira nota 8\n",
      "Informe a segunda nota 9\n",
      "Informe a terceira nota 5\n",
      "Informe a quarta nota 8\n",
      "A média do aluno é: 7.5\n"
     ]
    }
   ],
   "source": [
    "#Enunciado\n",
    "#Faça um programa que peça as 4 notas bimestrais de um aluno e mostre a média aritmética delas.\n",
    "\n",
    "nota1 = float(input ('Informe a primeira nota '))\n",
    "nota2 = float(input ('Informe a segunda nota '))\n",
    "nota3 = float(input ('Informe a terceira nota '))\n",
    "nota4 = float(input ('Informe a quarta nota '))\n",
    "media = (nota1+nota2+nota3+nota4)/4\n",
    "print ('A média do aluno é:', media)"
   ]
  },
  {
   "cell_type": "code",
   "execution_count": 6,
   "id": "31c5fe8f",
   "metadata": {},
   "outputs": [
    {
     "name": "stdout",
     "output_type": "stream",
     "text": [
      "Digite o raio do círculo 8.0\n",
      "50.24\n"
     ]
    }
   ],
   "source": [
    "#Enunciado\n",
    "#Faça um programa que peça o raio de um círculo, calcule e mostre sua área.\n",
    "#Obs: Fórmula da área de um círculo: A = 3,14*(r**2), onde r é o raio.\n",
    "\n",
    "raio = float (input (\"Digite o raio do círculo \"))\n",
    "a = 3.14*(raio*2)\n",
    "print (a)"
   ]
  },
  {
   "cell_type": "code",
   "execution_count": 8,
   "id": "60d19246",
   "metadata": {},
   "outputs": [
    {
     "name": "stdout",
     "output_type": "stream",
     "text": [
      "Quanto você ganha por hora? 10\n",
      "Quantas horas você trabalhou neste mês?100\n",
      "Seu sálário é:  1000.0\n"
     ]
    }
   ],
   "source": [
    "#Enunciado\n",
    "#Faça um programa que pergunte quanto você ganha por hora e o número de horas trabalhadas no mês e depois,\n",
    "#calcule e mostre o total do seu salário no referido mês.\n",
    "\n",
    "salariohora = float (input (\"Quanto você ganha por hora? \"))\n",
    "horatrabalhada = float (input (\"Quantas horas você trabalhou neste mês?\"))\n",
    "salariomes = salariohora*horatrabalhada\n",
    "print (\"Seu sálário é: \", salariomes)"
   ]
  },
  {
   "cell_type": "code",
   "execution_count": 10,
   "id": "7b65c52c",
   "metadata": {},
   "outputs": [
    {
     "name": "stdout",
     "output_type": "stream",
     "text": [
      "Qual o dia? 17\n",
      "Qual o mês? 06\n",
      "Qual o ano? 1993\n",
      "A data é: 17 / 6 / 1993\n"
     ]
    }
   ],
   "source": [
    "#Enunciado\n",
    "#Faça um programa que peça o dia, o mês e o ano para o usuário e imprima a data completa no formato dd/mm/aaaa.\n",
    "#Usando apenas variáveis, entradas e saídas\n",
    "\n",
    "dia = int(input(\"Qual o dia? \"))\n",
    "mes = int(input(\"Qual o mês? \"))\n",
    "ano = int(input(\"Qual o ano? \"))\n",
    "print(\"A data é:\", dia, \"/\", mes, \"/\", ano)\n"
   ]
  },
  {
   "cell_type": "code",
   "execution_count": 13,
   "id": "57866cf9",
   "metadata": {},
   "outputs": [
    {
     "name": "stdout",
     "output_type": "stream",
     "text": [
      "Informe o primeiro número inteiro 3\n",
      "Informe o segundo número inteiro 3\n",
      "Agora informe um número real 3\n",
      "O produto do dobro do primeiro número com metade do segundo número é  7.5\n",
      "A soma do triplo do primeiro número com o terceiro número é  12.0\n",
      "O teceiro número elevado ao cubo é  9.0\n"
     ]
    }
   ],
   "source": [
    "#Enunciado\n",
    "#Faça um programa que peça 2 números inteiros e um número real, calcule e mostre:\n",
    "#a) o produto do dobro do primeiro com metade do segundo.\n",
    "#b) a soma do triplo do primeiro com o terceiro.\n",
    "#c) o terceiro elevado ao cubo.\n",
    "\n",
    "numero1 = int (input (\"Informe o primeiro número inteiro \"))\n",
    "numero2 = int (input (\"Informe o segundo número inteiro \"))\n",
    "numero3 = float (input (\"Agora informe um número real \")) \n",
    "a = (numero1*2)+(numero2/2)\n",
    "b = (numero1*3)+(numero3)\n",
    "c = (numero3*3)\n",
    "\n",
    "print (\"O produto do dobro do primeiro número com metade do segundo número é \", a)\n",
    "print (\"A soma do triplo do primeiro número com o terceiro número é \", b)\n",
    "print (\"O teceiro número elevado ao cubo é \", c)"
   ]
  },
  {
   "cell_type": "code",
   "execution_count": 15,
   "id": "cfaeb1bd",
   "metadata": {},
   "outputs": [
    {
     "name": "stdout",
     "output_type": "stream",
     "text": [
      "Informe o seu peso 80\n",
      "Informe sua altura 1.70\n",
      "O seu Índice de Massa Corporal é  27.68166089965398\n"
     ]
    }
   ],
   "source": [
    "#Enunciado\n",
    "#Faça um programa que peça o peso e altura de uma pessoa e calcule seu IMC (Índice de Massa Corporal).\n",
    "#Obs: IMC = Peso/Altura**2\n",
    "\n",
    "peso = float (input (\"Informe o seu peso \"))\n",
    "altura = float (input (\"Informe sua altura \"))\n",
    "imc = peso/(altura**2)\n",
    "\n",
    "print (\"O seu Índice de Massa Corporal é \", imc)"
   ]
  },
  {
   "cell_type": "code",
   "execution_count": 16,
   "id": "117c248b",
   "metadata": {},
   "outputs": [
    {
     "name": "stdout",
     "output_type": "stream",
     "text": [
      "Informe o valor 100\n",
      "O valor informado acrescido de 15% é  115.0\n"
     ]
    }
   ],
   "source": [
    "#Enunciado\n",
    "#Faça um programa que peça um valor monetário e aumente-o em 15%.\n",
    "#Seu programa deve imprimir a mensagem “O novo valor é [valor]”.\n",
    "\n",
    "valor = float (input (\"Informe o valor \"))\n",
    "valorpercent = valor*0.15\n",
    "novovalor = valor+valorpercent\n",
    "\n",
    "print (\"O valor informado acrescido de 15% é \", novovalor)"
   ]
  },
  {
   "cell_type": "code",
   "execution_count": 17,
   "id": "06d77b07",
   "metadata": {},
   "outputs": [
    {
     "name": "stdout",
     "output_type": "stream",
     "text": [
      "Informe o valor 100\n",
      "O novo valor é  85.0\n"
     ]
    }
   ],
   "source": [
    "#Enunciado\n",
    "#Faça um programa que peça um valor monetário e diminua-o em 15%.\n",
    "#Seu programa deve imprimir a mensagem “O novo valor é [valor]”.\n",
    "\n",
    "valor = float (input (\"Informe o valor \"))\n",
    "valorpercent = valor*0.15\n",
    "novovalor = valor-valorpercent\n",
    "\n",
    "print (\"O novo valor é \", novovalor)\n"
   ]
  },
  {
   "cell_type": "code",
   "execution_count": 18,
   "id": "03d80811",
   "metadata": {},
   "outputs": [
    {
     "name": "stdout",
     "output_type": "stream",
     "text": [
      "Digite a posição inicial: 5\n",
      "Digite a velocidade inicial: 5\n",
      "Digite um instante no tempo: 5\n",
      "A posição no instante t = 5.0 é -95.0\n"
     ]
    }
   ],
   "source": [
    "#Enunciado Desafio 1.0\n",
    "#Peça para o usuário digitar uma velocidade inicial (em m/s), uma posição inicial (em m) e um instante de tempo (em s) e imprima a posição de um projétil nesse instante de tempo.\n",
    "#Use a fórmula matemática:\n",
    "#y(t) = y(0) + v(0)*t + (g*(t**2)/2)\n",
    "#Onde, g é a aceleração da gravidade (-10m/s²), y(t) é a posição final, y(0) é a posição inicial, v(0) é a velocidade inicial e t é o instante de tempo.\n",
    "\n",
    "y0 = float(input(\"Digite a posição inicial: \"))\n",
    "v0 = float(input(\"Digite a velocidade inicial: \"))\n",
    "t = float(input(\"Digite um instante no tempo: \"))\n",
    "g = -10\n",
    "\n",
    "y = y0 + v0*t + 0.5*g*t**2\n",
    "\n",
    "print(\"A posição no instante t =\", t, \"é\", y)"
   ]
  },
  {
   "cell_type": "code",
   "execution_count": 21,
   "id": "37ef73df",
   "metadata": {},
   "outputs": [
    {
     "name": "stdout",
     "output_type": "stream",
     "text": [
      "Data de hoje:  27 8 2022\n",
      "Hora atual:  19 : 56\n",
      "27/8/2022 19:56:36\n",
      "27/08/2022 19:56:36\n"
     ]
    }
   ],
   "source": [
    "#Enunciado Desafio 2.0\n",
    "#Faça um programa que informe a data e a hora para o usuário. Para isso use a função datetime.now() do módulo datetime.\n",
    "\n",
    "#Forma 1\n",
    "\n",
    "from datetime import datetime\n",
    "now = datetime.now()\n",
    "print ('Data de hoje: ', now.day, now.month, now.year)\n",
    "print ('Hora atual: ', now.hour,':',now.minute)\n",
    "\n",
    "#Forma 2\n",
    "\n",
    "from datetime import datetime # Incluímos a biblioteca datetime\n",
    "agora = datetime.now() # Chamamos a função now() da biblioteca datetime\n",
    "\n",
    "# Separamos cada pedaço que precisamos\n",
    "ano = agora.year\n",
    "mes = agora.month\n",
    "dia = agora.day\n",
    "hora = agora.hour\n",
    "minuto = agora.minute\n",
    "segundo = agora.second\n",
    "\n",
    "# Imprimimos o resultado \n",
    "# (Obs: o sep=\"\" quer dizer que o print não vai inserir um espaço entre cada uma das saídas)\n",
    "print(dia, \"/\", mes, \"/\", ano, \" \", hora, \":\", minuto, \":\", segundo, sep=\"\")\n",
    "\n",
    "#Forma 3\n",
    "\n",
    "agora = datetime.now()\n",
    "formato = \"%d/%m/%Y %H:%M:%S\" # Definimos um formato \n",
    "agora_formatado = datetime.strftime(agora,formato) # Usamos a função strftime(), que formata automaticamente o texto\n",
    "print(agora_formatado)"
   ]
  }
 ],
 "metadata": {
  "kernelspec": {
   "display_name": "Python 3 (ipykernel)",
   "language": "python",
   "name": "python3"
  },
  "language_info": {
   "codemirror_mode": {
    "name": "ipython",
    "version": 3
   },
   "file_extension": ".py",
   "mimetype": "text/x-python",
   "name": "python",
   "nbconvert_exporter": "python",
   "pygments_lexer": "ipython3",
   "version": "3.10.5"
  }
 },
 "nbformat": 4,
 "nbformat_minor": 5
}
